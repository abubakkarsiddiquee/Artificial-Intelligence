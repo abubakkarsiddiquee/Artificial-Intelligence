{
  "nbformat": 4,
  "nbformat_minor": 0,
  "metadata": {
    "colab": {
      "provenance": []
    },
    "kernelspec": {
      "name": "python3",
      "display_name": "Python 3"
    },
    "language_info": {
      "name": "python"
    }
  },
  "cells": [
    {
      "cell_type": "code",
      "execution_count": null,
      "metadata": {
        "colab": {
          "base_uri": "https://localhost:8080/"
        },
        "id": "3_URLHcmngr9",
        "outputId": "824f87a4-8f72-4a4d-d980-cf2a2e126e18"
      },
      "outputs": [
        {
          "output_type": "stream",
          "name": "stdout",
          "text": [
            "Solution of the path ['S', 'C', 'G']\n",
            "The solution Cost: 6\n"
          ]
        }
      ],
      "source": [
        "import heapq\n",
        "import math\n",
        "\n",
        "class Graph:\n",
        "    def __init__(self):\n",
        "        self.edges = {}\n",
        "        self.nodes = {}\n",
        "\n",
        "    def add_node(self, name, x, y):\n",
        "        self.nodes[name] = (x, y)\n",
        "\n",
        "    def add_edge(self, from_node, to_node, cost):\n",
        "        self.edges.setdefault(from_node, []).append((to_node, cost))\n",
        "\n",
        "    def neighbors(self, node):\n",
        "        return self.edges.get(node, [])\n",
        "\n",
        "def heuristic(node, goal):\n",
        "    x1, y1 = node\n",
        "    x2, y2 = goal\n",
        "    return math.sqrt((x2 - x1) ** 2 + (y2 - y1) ** 2)\n",
        "\n",
        "def astar_search(graph, start, goal):\n",
        "    frontier = [(0, start)]\n",
        "    came_from = {}\n",
        "    cost_so_far = {start: 0}\n",
        "\n",
        "    while frontier:\n",
        "        current_cost, current_node = heapq.heappop(frontier)\n",
        "\n",
        "        if current_node == goal:\n",
        "            break\n",
        "\n",
        "        for next_node, cost in graph.neighbors(current_node):\n",
        "            new_cost = cost_so_far[current_node] + cost\n",
        "            if next_node not in cost_so_far or new_cost < cost_so_far[next_node]:\n",
        "                cost_so_far[next_node] = new_cost\n",
        "                priority = new_cost + heuristic(graph.nodes[next_node], graph.nodes[goal])\n",
        "                heapq.heappush(frontier, (priority, next_node))\n",
        "                came_from[next_node] = current_node\n",
        "\n",
        "    path = []\n",
        "    current = goal\n",
        "    while current != start:\n",
        "        path.append(current)\n",
        "        current = came_from[current]\n",
        "    path.append(start)\n",
        "    path.reverse()\n",
        "\n",
        "    return path, cost_so_far[goal]\n",
        "\n",
        "def parse_input(file):\n",
        "    with open(file, 'r') as file:\n",
        "        graph = Graph()\n",
        "        num_nodes = int(file.readline().strip())\n",
        "        for _ in range(num_nodes):\n",
        "            name, x, y = file.readline().split()\n",
        "            graph.add_node(name, int(x), int(y))\n",
        "\n",
        "        num_edges = int(file.readline().strip())\n",
        "        for _ in range(num_edges):\n",
        "            start, end, cost = file.readline().split()\n",
        "            graph.add_edge(start, end, int(cost))\n",
        "\n",
        "        start_node = file.readline().strip()\n",
        "        goal_node = file.readline().strip()\n",
        "\n",
        "    return graph, start_node, goal_node\n",
        "\n",
        "def main():\n",
        "    file = \"/content/input.txt\"  # Hardcoded input file name\n",
        "    graph, start_node, goal_node = parse_input(file)\n",
        "    path, solution_cost = astar_search(graph, start_node, goal_node)\n",
        "    print(\"Solution of the path\", path)\n",
        "    print(\"The solution Cost:\", solution_cost)\n",
        "\n",
        "if __name__ == \"__main__\":\n",
        "    main()\n"
      ]
    }
  ]
}