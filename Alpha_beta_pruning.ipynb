{
  "nbformat": 4,
  "nbformat_minor": 0,
  "metadata": {
    "colab": {
      "provenance": []
    },
    "kernelspec": {
      "name": "python3",
      "display_name": "Python 3"
    },
    "language_info": {
      "name": "python"
    }
  },
  "cells": [
    {
      "cell_type": "markdown",
      "source": [
        "#####Alpha-Beta Pruning Algorithm"
      ],
      "metadata": {
        "id": "Iyk8IyY0vwOc"
      }
    },
    {
      "cell_type": "code",
      "execution_count": null,
      "metadata": {
        "id": "GakUFq9EpBpb"
      },
      "outputs": [],
      "source": [
        "def run_alpha_beta():\n",
        "    root = input(\"Enter the root node: \")\n",
        "    maximizing = True\n",
        "    tree = get_tree_input()\n",
        "    alpha = float('-inf')\n",
        "    beta = float('inf')\n",
        "    pruned_nodes = []\n",
        "    optimal_value = alpha_beta_pruning(root, alpha, beta, maximizing, tree, pruned_nodes)\n",
        "    print(\"Optimal Value:\", optimal_value)\n",
        "    print(\"Pruned Nodes:\", pruned_nodes)\n"
      ]
    },
    {
      "cell_type": "markdown",
      "source": [
        "#####Alpha-Beta Pruning process"
      ],
      "metadata": {
        "id": "m2jckd8pvo0z"
      }
    },
    {
      "cell_type": "code",
      "source": [
        "def alpha_beta_pruning(node, alpha, beta, is_maximizing, tree, pruned_nodes):\n",
        "    if node not in tree:\n",
        "        return node\n",
        "\n",
        "    if is_maximizing:\n",
        "        value = float('-inf')\n",
        "        for child in tree[node]:\n",
        "            result = alpha_beta_pruning(child, alpha, beta, False, tree, pruned_nodes)\n",
        "            value = max(value, result)\n",
        "            alpha = max(alpha, value)\n",
        "            if alpha >= beta:\n",
        "                pruned_nodes.extend(tree[node][tree[node].index(child) + 1:])\n",
        "                break\n",
        "        return value\n",
        "    else:\n",
        "        value = float('inf')\n",
        "        for child in tree[node]:\n",
        "            result = alpha_beta_pruning(child, alpha, beta, True, tree, pruned_nodes)\n",
        "            value = min(value, result)\n",
        "            beta = min(beta, value)\n",
        "            if beta <= alpha:\n",
        "                pruned_nodes.extend(tree[node][tree[node].index(child) + 1:])\n",
        "                break\n",
        "        return value"
      ],
      "metadata": {
        "id": "OR0M0pWk06Ya"
      },
      "execution_count": null,
      "outputs": []
    },
    {
      "cell_type": "markdown",
      "source": [
        "#####Input"
      ],
      "metadata": {
        "id": "PEZ69BCRv_Tb"
      }
    },
    {
      "cell_type": "code",
      "source": [
        "def get_tree_input():\n",
        "    tree = {}\n",
        "    n = int(input(\"Number of nodes: \"))\n",
        "    for _ in range(n):\n",
        "        node, *children = input().split(',')\n",
        "        tree[node.strip()] = [int(child.strip()) if child.strip().isdigit() else child.strip() for child in children]\n",
        "    return tree\n"
      ],
      "metadata": {
        "id": "AH0WE1ferSjM"
      },
      "execution_count": null,
      "outputs": []
    },
    {
      "cell_type": "markdown",
      "source": [
        "##### Run"
      ],
      "metadata": {
        "id": "JJLRVHl3vH2b"
      }
    },
    {
      "cell_type": "code",
      "source": [
        "run_alpha_beta()"
      ],
      "metadata": {
        "id": "BX0p1FdVf1EH",
        "colab": {
          "base_uri": "https://localhost:8080/"
        },
        "outputId": "40da89ee-a6e9-4ec1-9531-f8392bf95f63"
      },
      "execution_count": null,
      "outputs": [
        {
          "output_type": "stream",
          "name": "stdout",
          "text": [
            "Enter the root node: A\n",
            "Number of nodes: 7\n",
            "A,B,C\n",
            "B,D,E\n",
            "C,F,G\n",
            "D,5\n",
            "E,6\n",
            "F,3\n",
            "G.9\n",
            "Optimal Value: 5\n",
            "Pruned Nodes: ['G']\n"
          ]
        }
      ]
    }
  ]
}