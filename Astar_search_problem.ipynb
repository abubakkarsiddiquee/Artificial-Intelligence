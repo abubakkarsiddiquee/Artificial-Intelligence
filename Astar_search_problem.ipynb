import heapq
import math

class Graph:
    def __init__(self):
        self.edges = {}
        self.nodes = {}

    def add_node(self, name, x, y):
        self.nodes[name] = (x, y)

    def add_edge(self, from_node, to_node, cost):
        self.edges.setdefault(from_node, []).append((to_node, cost))

    def neighbors(self, node):
        return self.edges.get(node, [])

def heuristic(node, goal):
    x1, y1 = node
    x2, y2 = goal
    return math.sqrt((x2 - x1) ** 2 + (y2 - y1) ** 2)

def astar_search(graph, start, goal):
    frontier = [(0, start)]
    came_from = {}
    cost_so_far = {start: 0}

    while frontier:
        current_cost, current_node = heapq.heappop(frontier)

        if current_node == goal:
            break

        for next_node, cost in graph.neighbors(current_node):
            new_cost = cost_so_far[current_node] + cost
            if next_node not in cost_so_far or new_cost < cost_so_far[next_node]:
                cost_so_far[next_node] = new_cost
                priority = new_cost + heuristic(graph.nodes[next_node], graph.nodes[goal])
                heapq.heappush(frontier, (priority, next_node))
                came_from[next_node] = current_node

    path = []
    current = goal
    while current != start:
        path.append(current)
        current = came_from[current]
    path.append(start)
    path.reverse()

    return path, cost_so_far[goal]

def parse_input(file):
    with open(file, 'r') as file:
        graph = Graph()
        num_nodes = int(file.readline().strip())
        for _ in range(num_nodes):
            name, x, y = file.readline().split()
            graph.add_node(name, int(x), int(y))

        num_edges = int(file.readline().strip())
        for _ in range(num_edges):
            start, end, cost = file.readline().split()
            graph.add_edge(start, end, int(cost))

        start_node = file.readline().strip()
        goal_node = file.readline().strip()

    return graph, start_node, goal_node

def main():
    file = "/content/input.txt"  # Hardcoded input file name
    graph, start_node, goal_node = parse_input(file)
    path, solution_cost = astar_search(graph, start_node, goal_node)
    print("Solution of the path", path)
    print("The solution Cost:", solution_cost)

if __name__ == "__main__":
    main()
